{
 "cells": [
  {
   "cell_type": "code",
   "execution_count": null,
   "id": "95d532eb-9e97-4f61-b6a0-209c5733bd4d",
   "metadata": {
    "tags": []
   },
   "outputs": [],
   "source": []
  },
  {
   "cell_type": "code",
   "execution_count": 3,
   "id": "90792f8f",
   "metadata": {
    "tags": []
   },
   "outputs": [],
   "source": [
    "import os\n",
    "import numpy as np\n",
    "import pandas as pd\n",
    "import tensorflow as tf\n",
    "from sklearn.model_selection import train_test_split\n",
    "from tensorflow import keras\n",
    "import torch\n",
    "from keras.preprocessing.image import ImageDataGenerator\n",
    "from torch.utils.data import Dataset\n",
    "from torchvision import transforms,datasets \n",
    "from torchvision.transforms import ToTensor\n",
    "import matplotlib.pyplot as plt\n",
    "from torch.utils.data import DataLoader\n",
    "import cv2\n",
    "from sklearn.preprocessing import MultiLabelBinarizer\n",
    "import random\n",
    "from tensorflow.keras.applications import ResNet50\n",
    "import csv\n",
    "from PIL import Image\n",
    "from sklearn.metrics import precision_score, recall_score, f1_score"
   ]
  },
  {
   "cell_type": "code",
   "execution_count": null,
   "id": "ebe9dff8-2e29-4e78-ab97-35ff259dca18",
   "metadata": {
    "tags": []
   },
   "outputs": [],
   "source": []
  },
  {
   "cell_type": "code",
   "execution_count": null,
   "id": "7372b56f",
   "metadata": {},
   "outputs": [],
   "source": []
  },
  {
   "cell_type": "code",
   "execution_count": 37,
   "id": "58ab7e11-d491-459d-a9f3-db4c5505b666",
   "metadata": {
    "tags": []
   },
   "outputs": [],
   "source": [
    "class MultiLabelImageDataset(keras.utils.Sequence):\n",
    "    def __init__(self, image_dir, label_file, num_classes, batch_size=32, shuffle=True, subset='train'):\n",
    "        self.image_dir = image_dir\n",
    "        self.num_classes = num_classes\n",
    "        self.batch_size = batch_size\n",
    "        self.shuffle = shuffle\n",
    "        self.subset = subset\n",
    "        self.data = []\n",
    "        \n",
    "        # Load labels from the CSV file\n",
    "        with open(label_file, 'r') as f:\n",
    "            reader = csv.reader(f)\n",
    "            for row in reader:\n",
    "                image_id, labels_str = row\n",
    "                labels = [int(label) for label in labels_str.split()]\n",
    "                self.data.append((os.path.join(image_dir, f\"{image_id}.jpg\"), labels))\n",
    "        \n",
    "        # Split the data into train and test sets\n",
    "        random.shuffle(self.data)\n",
    "        split_idx = int(len(self.data) * 0.8)  # 80% for training, 20% for testing\n",
    "        if self.subset == 'train':\n",
    "            self.data = self.data[:split_idx]\n",
    "        else:\n",
    "            self.data = self.data[split_idx:]\n",
    "        \n",
    "        self.indexes = np.arange(len(self.data))\n",
    "        if self.shuffle:\n",
    "            np.random.shuffle(self.indexes)\n",
    "    \n",
    "    def __len__(self):\n",
    "        return int(np.ceil(len(self.data) / self.batch_size))\n",
    "    \n",
    "    def __getitem__(self, idx):\n",
    "        batch_indexes = self.indexes[idx * self.batch_size:(idx + 1) * self.batch_size]\n",
    "        batch_images = []\n",
    "        batch_targets = []\n",
    "        for i in batch_indexes:\n",
    "            image_path, labels = self.data[i]\n",
    "            \n",
    "            # Load the image\n",
    "            img = Image.open(image_path)\n",
    "            \n",
    "            # Resize the image to 224x224\n",
    "            img = img.resize((224, 224))\n",
    "            \n",
    "            # Convert image to numpy array\n",
    "            img = np.array(img)\n",
    "            \n",
    "            # Normalize the image (important for ResNet)\n",
    "            img = keras.applications.resnet50.preprocess_input(img)\n",
    "            \n",
    "            # Convert labels to a one-hot encoded numpy array\n",
    "            target = np.zeros(self.num_classes)\n",
    "            for label in labels:\n",
    "                target[label - 1] = 1\n",
    "            \n",
    "            batch_images.append(img)\n",
    "            batch_targets.append(target)\n",
    "        \n",
    "        batch_images = np.array(batch_images)\n",
    "        batch_targets = np.array(batch_targets)\n",
    "        \n",
    "        return batch_images, batch_targets\n",
    "    \n",
    "    def on_epoch_end(self):\n",
    "        if self.shuffle:\n",
    "            np.random.shuffle(self.indexes)\n",
    "            \n",
    "    def get_labels(self):\n",
    "        return [labels for _, labels in self.data]"
   ]
  },
  {
   "cell_type": "code",
   "execution_count": 38,
   "id": "665fe6f6",
   "metadata": {},
   "outputs": [],
   "source": [
    "label_file = 'train1.csv'\n",
    "image_dir = 'data/'\n",
    "num_classes = 18 # Number of classes\n",
    "train_dataset = MultiLabelImageDataset(label_file='train1.csv', image_dir = 'data/', num_classes = 18, subset='train')\n",
    "test_dataset = MultiLabelImageDataset(label_file='train1.csv', image_dir = 'data/', num_classes = 18, subset='test')\n",
    "\n"
   ]
  },
  {
   "cell_type": "code",
   "execution_count": 39,
   "id": "dc2e64cc-172b-4f23-99db-545e32033388",
   "metadata": {
    "tags": []
   },
   "outputs": [],
   "source": [
    "base_model = ResNet50(weights='imagenet', include_top=False, input_shape=(224, 224, 3))"
   ]
  },
  {
   "cell_type": "code",
   "execution_count": 40,
   "id": "6d8b0717-007f-4ae6-9f1b-b49c4b1335f1",
   "metadata": {
    "tags": []
   },
   "outputs": [],
   "source": [
    "\n",
    "for layer in base_model.layers[:]:\n",
    "    layer.trainable = False"
   ]
  },
  {
   "cell_type": "code",
   "execution_count": 41,
   "id": "39352213",
   "metadata": {},
   "outputs": [],
   "source": [
    "dropout_rate = 0.1  # Set desired dropout rate\n",
    "# Add custom classification layers\n",
    "x = base_model.output\n",
    "x = keras.layers.GlobalAveragePooling2D()(x)\n",
    "x = keras.layers.Dense(1024, activation='relu')(x)\n",
    "x = keras.layers.Dropout(dropout_rate)(x)\n",
    "outputs = keras.layers.Dense(18, activation='sigmoid')(x)\n"
   ]
  },
  {
   "cell_type": "code",
   "execution_count": 42,
   "id": "0a8f5253-2ed2-4154-8045-81889bfa18db",
   "metadata": {
    "tags": []
   },
   "outputs": [],
   "source": [
    "# Create the final model\n",
    "model = keras.models.Model(inputs=base_model.input, outputs=outputs)"
   ]
  },
  {
   "cell_type": "code",
   "execution_count": 43,
   "id": "a8beb725-637f-460e-b21c-c252a0bb2be8",
   "metadata": {
    "tags": []
   },
   "outputs": [],
   "source": [
    "# Compile the model with a custom learning rate\n",
    "learning_rate = 0.00002\n",
    "# Compile the model\n",
    "model.compile(optimizer='adam', loss='binary_crossentropy', metrics=['accuracy'])"
   ]
  },
  {
   "cell_type": "code",
   "execution_count": null,
   "id": "47e28c1b",
   "metadata": {},
   "outputs": [],
   "source": []
  },
  {
   "cell_type": "code",
   "execution_count": 22,
   "id": "db7260ef-02a3-41e8-b2ee-c965e7217dfd",
   "metadata": {
    "tags": []
   },
   "outputs": [
    {
     "name": "stdout",
     "output_type": "stream",
     "text": [
      "Epoch 1/2\n",
      "750/750 [==============================] - 1665s 2s/step - loss: 0.1186 - accuracy: 0.7888 - val_loss: 0.0962 - val_accuracy: 0.7947\n",
      "Epoch 2/2\n",
      "750/750 [==============================] - 1681s 2s/step - loss: 0.0977 - accuracy: 0.8025 - val_loss: 0.0924 - val_accuracy: 0.8142\n"
     ]
    },
    {
     "data": {
      "text/plain": [
       "<keras.callbacks.History at 0x1e88079e408>"
      ]
     },
     "execution_count": 22,
     "metadata": {},
     "output_type": "execute_result"
    }
   ],
   "source": [
    "# Train the model\n",
    "epochs = 3\n",
    "model.fit(\n",
    "    train_dataset,\n",
    "    validation_data=test_dataset,\n",
    "    epochs=epochs,\n",
    "    use_multiprocessing=False\n",
    ")"
   ]
  },
  {
   "cell_type": "code",
   "execution_count": null,
   "id": "1309f007",
   "metadata": {},
   "outputs": [],
   "source": []
  },
  {
   "cell_type": "code",
   "execution_count": 32,
   "id": "d8d0fcfd",
   "metadata": {},
   "outputs": [],
   "source": [
    "model.save('model1.keras')"
   ]
  },
  {
   "cell_type": "code",
   "execution_count": 53,
   "id": "5122d1f1",
   "metadata": {},
   "outputs": [
    {
     "name": "stdout",
     "output_type": "stream",
     "text": [
      "188/188 [==============================] - 698s 4s/step - loss: 0.0927 - accuracy: 0.8177\n",
      "Test Loss: 0.0927\n",
      "Test Accuracy: 0.8177\n"
     ]
    }
   ],
   "source": [
    "model = keras.models.load_model('model1.keras')\n",
    "# Evaluate the model on the test dataset\n",
    "loss, accuracy = model.evaluate(test_dataset)\n",
    "print(f'Test Loss: {loss:.4f}')\n",
    "print(f'Test Accuracy: {accuracy:.4f}')"
   ]
  },
  {
   "cell_type": "code",
   "execution_count": 54,
   "id": "b7942f33",
   "metadata": {},
   "outputs": [
    {
     "name": "stdout",
     "output_type": "stream",
     "text": [
      "188/188 [==============================] - 706s 4s/step\n"
     ]
    }
   ],
   "source": [
    "# Generate predictions on the test dataset\n",
    "predictions = model.predict(test_dataset)\n"
   ]
  },
  {
   "cell_type": "code",
   "execution_count": 46,
   "id": "9d3b9c2e",
   "metadata": {},
   "outputs": [],
   "source": [
    "# Convert predictions to binary labels\n",
    "threshold = 0.5\n",
    "binary_predictions = np.where(predictions >= threshold, 1, 0)\n",
    "\n",
    "# Get the true labels from the test dataset\n",
    "true_labels = test_dataset.get_labels()"
   ]
  },
  {
   "cell_type": "code",
   "execution_count": 47,
   "id": "870ab136",
   "metadata": {},
   "outputs": [],
   "source": [
    "# Convert true labels to binary array format\n",
    "mlb = MultiLabelBinarizer()\n",
    "true_labels_binary = mlb.fit_transform(true_labels)"
   ]
  },
  {
   "cell_type": "code",
   "execution_count": 51,
   "id": "8c20f773",
   "metadata": {},
   "outputs": [
    {
     "name": "stdout",
     "output_type": "stream",
     "text": [
      "F1-score: 0.4506\n"
     ]
    }
   ],
   "source": [
    "# Calculate additional evaluation metrics\n",
    "f1 = f1_score(true_labels_binary, binary_predictions, average='micro')\n",
    "#print(f'Precision: {precision:.4f}')\n",
    "#print(f'Recall: {recall:.4f}')\n",
    "print(f'F1-score: {f1:.4f}')"
   ]
  },
  {
   "cell_type": "code",
   "execution_count": null,
   "id": "597cf62a",
   "metadata": {},
   "outputs": [],
   "source": []
  },
  {
   "cell_type": "code",
   "execution_count": null,
   "id": "e3a395fc-928e-404c-97ba-12c30b9685d7",
   "metadata": {
    "tags": []
   },
   "outputs": [],
   "source": []
  },
  {
   "cell_type": "code",
   "execution_count": 2,
   "id": "7e74c900-615e-45ff-aeab-e5df5b1ebfeb",
   "metadata": {
    "tags": []
   },
   "outputs": [],
   "source": []
  },
  {
   "cell_type": "code",
   "execution_count": null,
   "id": "76661fb0-7df9-44a6-af43-7d66cbe5ad89",
   "metadata": {},
   "outputs": [],
   "source": []
  }
 ],
 "metadata": {
  "celltoolbar": "Edit Metadata",
  "kernelspec": {
   "display_name": "Python 3 (ipykernel)",
   "language": "python",
   "name": "python3"
  },
  "language_info": {
   "codemirror_mode": {
    "name": "ipython",
    "version": 3
   },
   "file_extension": ".py",
   "mimetype": "text/x-python",
   "name": "python",
   "nbconvert_exporter": "python",
   "pygments_lexer": "ipython3",
   "version": "3.7.16"
  }
 },
 "nbformat": 4,
 "nbformat_minor": 5
}
